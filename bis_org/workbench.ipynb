{
 "cells": [
  {
   "cell_type": "code",
   "execution_count": 1,
   "metadata": {},
   "outputs": [],
   "source": [
    "import os\n",
    "import requests\n",
    "import bs4\n",
    "from pathlib import Path"
   ]
  },
  {
   "cell_type": "code",
   "execution_count": 3,
   "metadata": {},
   "outputs": [],
   "source": [
    "url_bis = r'https://www.bis.org/statistics/full_data_sets.htm'"
   ]
  },
  {
   "cell_type": "code",
   "execution_count": 4,
   "metadata": {},
   "outputs": [],
   "source": [
    "cont_bis = requests.get(url_bis)"
   ]
  },
  {
   "cell_type": "code",
   "execution_count": 6,
   "metadata": {},
   "outputs": [],
   "source": [
    "soup = bs4.BeautifulSoup(cont_bis.content)\n",
    "htm_li_filelist = soup.find(id='cmsContent').find('ul').find('li')"
   ]
  },
  {
   "cell_type": "code",
   "execution_count": 9,
   "metadata": {},
   "outputs": [
    {
     "name": "stdout",
     "output_type": "stream",
     "text": [
      "Downloaded: https://www.bis.org/statistics/full_bis_total_credit_csv.zip\n",
      "Downloaded: https://www.bis.org/statistics/full_webstats_credit_gap_dataflow_csv.zip\n",
      "Downloaded: https://www.bis.org/statistics/full_bis_dsr_csv.zip\n",
      "Downloaded: https://www.bis.org/statistics/full_bis_gli_csv.zip\n",
      "Downloaded: https://www.bis.org/statistics/full_bis_xtd_csv.zip\n"
     ]
    }
   ],
   "source": [
    "num_files = 0\n",
    "lst_files = list()\n",
    "for i, x in enumerate(soup.find(id='cmsContent').find('ul').findAll('li')):\n",
    "    if i < 3: continue # skip first 3 files(LBS, CBS, DEBT_SEC) because it is big\n",
    "    url_zipfile = r'https://www.bis.org' + x.find('a')['href']\n",
    "    zip_content = requests.get(url_zipfile)\n",
    "    with open(os.path.join('downloads',url_zipfile.split(r'/')[-1]), 'wb') as fout:\n",
    "        fout.write(zip_content.content)\n",
    "        print('Downloaded: {0}'.format(url_zipfile))\n",
    "        num_files = num_files + 1\n",
    "        lst_files.append(url_zipfile.split(r'/')[-1])\n",
    "    if num_files == 5: # download only 5 files\n",
    "        break"
   ]
  },
  {
   "cell_type": "code",
   "execution_count": 12,
   "metadata": {},
   "outputs": [],
   "source": [
    "import os\n",
    "import shutil\n",
    "from zipfile import ZipFile"
   ]
  },
  {
   "cell_type": "code",
   "execution_count": 11,
   "metadata": {},
   "outputs": [
    {
     "data": {
      "text/plain": [
       "['full_bis_total_credit_csv.zip',\n",
       " 'full_webstats_credit_gap_dataflow_csv.zip',\n",
       " 'full_bis_dsr_csv.zip',\n",
       " 'full_bis_gli_csv.zip',\n",
       " 'full_bis_xtd_csv.zip']"
      ]
     },
     "execution_count": 11,
     "metadata": {},
     "output_type": "execute_result"
    }
   ],
   "source": [
    "lst_files"
   ]
  },
  {
   "cell_type": "code",
   "execution_count": 15,
   "metadata": {},
   "outputs": [
    {
     "name": "stdout",
     "output_type": "stream",
     "text": [
      "Extracted: downloads\\full_bis_total_credit_csv.zipunzipped\n",
      "Extracted: downloads\\full_webstats_credit_gap_dataflow_csv.zipunzipped\n",
      "Extracted: downloads\\full_bis_dsr_csv.zipunzipped\n",
      "Extracted: downloads\\full_bis_gli_csv.zipunzipped\n",
      "Extracted: downloads\\full_bis_xtd_csv.zipunzipped\n"
     ]
    }
   ],
   "source": [
    "lst_unzip_folder = list()\n",
    "for csvfile in lst_files:\n",
    "    csvfile = os.path.join(r'downloads', csvfile)\n",
    "    csvfile_unzip = csvfile + 'unzipped'\n",
    "    if os.path.exists(csvfile):\n",
    "        #If the folder is exist, it removes forcefully\n",
    "        if os.path.isdir(csvfile_unzip):\n",
    "            shutil.rmtree(csvfile_unzip)\n",
    "        else:\n",
    "            os.mkdir(csvfile_unzip)\n",
    "        with ZipFile(csvfile, 'r') as zipObj:\n",
    "            # Extract all the contents of zip file in current directory\n",
    "            zipObj.extractall(csvfile_unzip)\n",
    "            lst_unzip_folder.append(csvfile_unzip)\n",
    "            print('Extracted: {0}'.format(csvfile_unzip))"
   ]
  },
  {
   "cell_type": "code",
   "execution_count": 16,
   "metadata": {},
   "outputs": [],
   "source": [
    "import pandas as pd"
   ]
  },
  {
   "cell_type": "code",
   "execution_count": 18,
   "metadata": {},
   "outputs": [
    {
     "name": "stdout",
     "output_type": "stream",
     "text": [
      "# row and columns of WEBSTATS_TOTAL_CREDIT_DATAFLOW_csv_col.csv: (1130, 332)\n",
      "# row and columns of WEBSTATS_CREDIT_GAP_DATAFLOW_csv_col.csv: (132, 284)\n",
      "# row and columns of WEBSTATS_DSR_DATAFLOW_csv_col.csv: (66, 89)\n",
      "# row and columns of WEBSTATS_GLI_DATAFLOW_csv_col.csv: (225, 185)\n",
      "# row and columns of WEBSTATS_XTD_DATAFLOW_csv_col.csv: (1296, 485)\n"
     ]
    }
   ],
   "source": [
    "for unzip_folder in lst_unzip_folder:\n",
    "    for csvfile in os.listdir(unzip_folder):\n",
    "        csvfile2 = os.path.join(unzip_folder, csvfile)\n",
    "        df = pd.read_csv(csvfile2)\n",
    "        print('# row and columns of {0}: {1}'.format(csvfile, df.shape))"
   ]
  },
  {
   "cell_type": "code",
   "execution_count": null,
   "metadata": {},
   "outputs": [],
   "source": []
  }
 ],
 "metadata": {
  "kernelspec": {
   "display_name": "Python 3",
   "language": "python",
   "name": "python3"
  },
  "language_info": {
   "codemirror_mode": {
    "name": "ipython",
    "version": 3
   },
   "file_extension": ".py",
   "mimetype": "text/x-python",
   "name": "python",
   "nbconvert_exporter": "python",
   "pygments_lexer": "ipython3",
   "version": "3.7.0"
  }
 },
 "nbformat": 4,
 "nbformat_minor": 2
}
