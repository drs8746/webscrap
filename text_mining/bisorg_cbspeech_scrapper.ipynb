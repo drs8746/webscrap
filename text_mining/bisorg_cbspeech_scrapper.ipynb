{
 "cells": [
  {
   "cell_type": "code",
   "execution_count": 58,
   "metadata": {},
   "outputs": [],
   "source": [
    "import os\n",
    "import time\n",
    "from selenium import webdriver\n",
    "from selenium.webdriver.common.by import By\n",
    "from selenium.webdriver.common.keys import Keys"
   ]
  },
  {
   "cell_type": "code",
   "execution_count": 2,
   "metadata": {},
   "outputs": [],
   "source": [
    "driver = webdriver.Chrome('./chromedriver')"
   ]
  },
  {
   "cell_type": "code",
   "execution_count": 3,
   "metadata": {},
   "outputs": [],
   "source": [
    "#Access BIS speech site\n",
    "driver.get(\"https://www.bis.org/cbspeeches/index.htm?m=2%7C10\")"
   ]
  },
  {
   "cell_type": "code",
   "execution_count": 53,
   "metadata": {},
   "outputs": [
    {
     "data": {
      "text/plain": [
       "1601"
      ]
     },
     "execution_count": 53,
     "metadata": {},
     "output_type": "execute_result"
    }
   ],
   "source": [
    "tot_page = driver.find_elements(By.XPATH, \"//div[@class='pageof']\")[0]\n",
    "tot_page = tot_page.find_elements_by_css_selector(\"*\")\n",
    "tot_page = int(bar2.text.split(' ')[-1].replace(',', ''))\n",
    "tot_page"
   ]
  },
  {
   "cell_type": "code",
   "execution_count": 59,
   "metadata": {},
   "outputs": [],
   "source": [
    "#download folder\n",
    "down_folder = r'..\\data\\bisorg_cbspeech'"
   ]
  },
  {
   "cell_type": "code",
   "execution_count": 63,
   "metadata": {},
   "outputs": [
    {
     "name": "stdout",
     "output_type": "stream",
     "text": [
      "0th page downloaded\n"
     ]
    }
   ],
   "source": [
    "for i in range(tot_page):    \n",
    "    _datapage = driver.find_elements(By.XPATH, \"//a[@data-page]\")[-1]\n",
    "    _html = str.encode(driver.page_source)\n",
    "    _filename = 'p{0}.html.txt'.format(10000+i)\n",
    "    with open(os.path.join(down_folder,_filename),'wb') as fout:\n",
    "        fout.write(_html)\n",
    "    _datapage.click()\n",
    "    time.sleep(3)\n",
    "    if i % 100 == 0:\n",
    "        print('{0}th page downloaded'.format(i))\n",
    "    if i==10:\n",
    "        break"
   ]
  },
  {
   "cell_type": "code",
   "execution_count": null,
   "metadata": {},
   "outputs": [],
   "source": []
  }
 ],
 "metadata": {
  "kernelspec": {
   "display_name": "Python 3.7.4 64-bit ('env': venv)",
   "language": "python",
   "name": "python37464bitenvvenvf03e7c7b497042ccb9165810c3007ade"
  },
  "language_info": {
   "codemirror_mode": {
    "name": "ipython",
    "version": 3
   },
   "file_extension": ".py",
   "mimetype": "text/x-python",
   "name": "python",
   "nbconvert_exporter": "python",
   "pygments_lexer": "ipython3",
   "version": "3.7.4"
  }
 },
 "nbformat": 4,
 "nbformat_minor": 4
}
