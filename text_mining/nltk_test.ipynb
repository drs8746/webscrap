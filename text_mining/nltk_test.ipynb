{
 "cells": [
  {
   "cell_type": "code",
   "execution_count": 16,
   "metadata": {},
   "outputs": [],
   "source": [
    "import nltk\n",
    "from nltk.tokenize import sent_tokenize"
   ]
  },
  {
   "cell_type": "code",
   "execution_count": 14,
   "metadata": {},
   "outputs": [],
   "source": [
    "# few sentences from BIS.ORG\n",
    "with open('bisinfo.txt', 'r') as fin:\n",
    "    content = ''.join([x.replace('\\n', ' ') for x in fin.readlines()])"
   ]
  },
  {
   "cell_type": "code",
   "execution_count": 15,
   "metadata": {},
   "outputs": [
    {
     "data": {
      "text/plain": [
       "'About BIS - overview Our mission is to serve central banks in their pursuit of monetary and financial stability, to foster international cooperation in those areas and to act as a bank for central banks.  Established in 1930, the BIS is owned by 60 central banks, representing countries from around the world that together account for about 95% of world GDP. Its head office is in Basel, Switzerland and it has two representative offices: in Hong Kong SAR and in Mexico City.  We pursue our mission by:  fostering discussion and facilitating collaboration among central banks supporting dialogue with other authorities that are responsible for promoting financial stability carrying out research and policy analysis on issues of relevance for monetary and financial stability acting as a prime counterparty for central banks in their financial transactions serving as an agent or trustee in connection with international financial operations As part of our work in the area of monetary and financial stability, we regularly publish related analyses and international banking and financial statistics that underpin policymaking, academic research and public debate.  With regard to our banking activities, our customers are central banks and international organisations. We do not accept deposits from, or provide financial services to, private individuals or corporate entities.'"
      ]
     },
     "execution_count": 15,
     "metadata": {},
     "output_type": "execute_result"
    }
   ],
   "source": [
    "content"
   ]
  },
  {
   "cell_type": "code",
   "execution_count": 21,
   "metadata": {},
   "outputs": [
    {
     "name": "stdout",
     "output_type": "stream",
     "text": [
      "line(1) \t : About BIS - overview Our mission is to serve central banks in their pursuit of monetary and financial stability, to foster international cooperation in those areas and to act as a bank for central banks.\n",
      "\n",
      "line(2) \t : Established in 1930, the BIS is owned by 60 central banks, representing countries from around the world that together account for about 95% of world GDP.\n",
      "\n",
      "line(3) \t : Its head office is in Basel, Switzerland and it has two representative offices: in Hong Kong SAR and in Mexico City.\n",
      "\n",
      "line(4) \t : We pursue our mission by:  fostering discussion and facilitating collaboration among central banks supporting dialogue with other authorities that are responsible for promoting financial stability carrying out research and policy analysis on issues of relevance for monetary and financial stability acting as a prime counterparty for central banks in their financial transactions serving as an agent or trustee in connection with international financial operations As part of our work in the area of monetary and financial stability, we regularly publish related analyses and international banking and financial statistics that underpin policymaking, academic research and public debate.\n",
      "\n",
      "line(5) \t : With regard to our banking activities, our customers are central banks and international organisations.\n",
      "\n",
      "line(6) \t : We do not accept deposits from, or provide financial services to, private individuals or corporate entities.\n",
      "\n"
     ]
    }
   ],
   "source": [
    "# Seperate sentences from the content \n",
    "for i, x in enumerate(sent_tokenize(content)):\n",
    "    print('line({0}) \\t : {1}\\n'.format(i+1, x))"
   ]
  },
  {
   "cell_type": "code",
   "execution_count": 7,
   "metadata": {},
   "outputs": [],
   "source": [
    "from nltk.tokenize import word_tokenize"
   ]
  },
  {
   "cell_type": "code",
   "execution_count": 22,
   "metadata": {},
   "outputs": [],
   "source": [
    "# Word counter \n",
    "wordic = dict()\n",
    "for i, x in enumerate(word_tokenize(content)):\n",
    "    if wordic.get(x):\n",
    "        wordic[x] = wordic[x] + 1\n",
    "    else:\n",
    "        wordic[x] = 1"
   ]
  },
  {
   "cell_type": "code",
   "execution_count": 28,
   "metadata": {},
   "outputs": [
    {
     "name": "stdout",
     "output_type": "stream",
     "text": [
      "and 12\n",
      "in 9\n",
      ", 9\n",
      "financial 8\n",
      "central 6\n",
      "banks 6\n",
      ". 6\n",
      "to 5\n",
      "of 5\n",
      "for 5\n",
      "stability 4\n",
      "international 4\n",
      "our 4\n",
      "is 3\n",
      "monetary 3\n",
      "as 3\n",
      "the 3\n",
      "that 3\n",
      "or 3\n",
      "BIS 2\n",
      "mission 2\n",
      "their 2\n",
      "a 2\n",
      "by 2\n",
      "from 2\n",
      "world 2\n",
      ": 2\n",
      "We 2\n",
      "with 2\n",
      "are 2\n",
      "research 2\n",
      "banking 2\n",
      "About 1\n",
      "- 1\n",
      "overview 1\n",
      "Our 1\n",
      "serve 1\n",
      "pursuit 1\n",
      "foster 1\n",
      "cooperation 1\n",
      "those 1\n",
      "areas 1\n",
      "act 1\n",
      "bank 1\n",
      "Established 1\n",
      "1930 1\n",
      "owned 1\n",
      "60 1\n",
      "representing 1\n",
      "countries 1\n",
      "around 1\n",
      "together 1\n",
      "account 1\n",
      "about 1\n",
      "95 1\n",
      "% 1\n",
      "GDP 1\n",
      "Its 1\n",
      "head 1\n",
      "office 1\n",
      "Basel 1\n",
      "Switzerland 1\n",
      "it 1\n",
      "has 1\n",
      "two 1\n",
      "representative 1\n",
      "offices 1\n",
      "Hong 1\n",
      "Kong 1\n",
      "SAR 1\n",
      "Mexico 1\n",
      "City 1\n",
      "pursue 1\n",
      "fostering 1\n",
      "discussion 1\n",
      "facilitating 1\n",
      "collaboration 1\n",
      "among 1\n",
      "supporting 1\n",
      "dialogue 1\n",
      "other 1\n",
      "authorities 1\n",
      "responsible 1\n",
      "promoting 1\n",
      "carrying 1\n",
      "out 1\n",
      "policy 1\n",
      "analysis 1\n",
      "on 1\n",
      "issues 1\n",
      "relevance 1\n",
      "acting 1\n",
      "prime 1\n",
      "counterparty 1\n",
      "transactions 1\n",
      "serving 1\n",
      "an 1\n",
      "agent 1\n",
      "trustee 1\n",
      "connection 1\n",
      "operations 1\n",
      "As 1\n",
      "part 1\n",
      "work 1\n",
      "area 1\n",
      "we 1\n",
      "regularly 1\n",
      "publish 1\n",
      "related 1\n",
      "analyses 1\n",
      "statistics 1\n",
      "underpin 1\n",
      "policymaking 1\n",
      "academic 1\n",
      "public 1\n",
      "debate 1\n",
      "With 1\n",
      "regard 1\n",
      "activities 1\n",
      "customers 1\n",
      "organisations 1\n",
      "do 1\n",
      "not 1\n",
      "accept 1\n",
      "deposits 1\n",
      "provide 1\n",
      "services 1\n",
      "private 1\n",
      "individuals 1\n",
      "corporate 1\n",
      "entities 1\n"
     ]
    }
   ],
   "source": [
    "# Sort by occurrance\n",
    "for _key in sorted(wordic, key=wordic.get, reverse=True):\n",
    "    print (_key, wordic[_key])"
   ]
  },
  {
   "cell_type": "code",
   "execution_count": 29,
   "metadata": {},
   "outputs": [],
   "source": [
    "# Example of external corpus \n",
    "from nltk.corpus import wordnet"
   ]
  },
  {
   "cell_type": "code",
   "execution_count": 30,
   "metadata": {},
   "outputs": [],
   "source": [
    "syn = wordnet.synsets(\"money\") "
   ]
  },
  {
   "cell_type": "code",
   "execution_count": 31,
   "metadata": {},
   "outputs": [
    {
     "name": "stdout",
     "output_type": "stream",
     "text": [
      "the most common medium of exchange; functions as legal tender\n"
     ]
    }
   ],
   "source": [
    "print(syn[0].definition())"
   ]
  },
  {
   "cell_type": "code",
   "execution_count": 32,
   "metadata": {},
   "outputs": [
    {
     "name": "stdout",
     "output_type": "stream",
     "text": [
      "['we tried to collect the money he owed us']\n"
     ]
    }
   ],
   "source": [
    "print(syn[0].examples())"
   ]
  },
  {
   "cell_type": "code",
   "execution_count": null,
   "metadata": {},
   "outputs": [],
   "source": []
  }
 ],
 "metadata": {
  "kernelspec": {
   "display_name": "Python 3",
   "language": "python",
   "name": "python3"
  },
  "language_info": {
   "codemirror_mode": {
    "name": "ipython",
    "version": 3
   },
   "file_extension": ".py",
   "mimetype": "text/x-python",
   "name": "python",
   "nbconvert_exporter": "python",
   "pygments_lexer": "ipython3",
   "version": "3.7.4"
  }
 },
 "nbformat": 4,
 "nbformat_minor": 2
}
