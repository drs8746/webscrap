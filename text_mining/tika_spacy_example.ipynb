{
 "cells": [
  {
   "cell_type": "code",
   "execution_count": 22,
   "metadata": {},
   "outputs": [],
   "source": [
    "import os\n",
    "import glob\n",
    "import json\n",
    "import tika"
   ]
  },
  {
   "cell_type": "markdown",
   "metadata": {},
   "source": [
    "### Steps to use tika Python on windows 10\n",
    "\n",
    "<ul>\n",
    "    <li>Install tika 1.23.0 from PYPI</li>\n",
    "    <li>Set up TIKA_SERVER_JAR=file:////d:/tools/tika-server-1.23.jar in Windows variables</li>\n",
    "    <li>Download tika-server library from https://www.apache.org/dyn/closer.cgi/tika/tika-server-1.23.jar</li>\n",
    "</ul>\n",
    "    "
   ]
  },
  {
   "cell_type": "code",
   "execution_count": 2,
   "metadata": {},
   "outputs": [],
   "source": [
    "tika.initVM()"
   ]
  },
  {
   "cell_type": "code",
   "execution_count": 3,
   "metadata": {},
   "outputs": [],
   "source": [
    "from tika import parser"
   ]
  },
  {
   "cell_type": "code",
   "execution_count": 4,
   "metadata": {},
   "outputs": [],
   "source": [
    "# Tika sample\n",
    "pdffile = r'D:\\workspace\\training\\webscrap-master\\data\\pdf\\p10627_r130718d.pdf'\n",
    "parsed = parser.from_file(pdffile)\n",
    "metadata = parsed[\"metadata\"]\n",
    "content = ' '.join(parsed[\"content\"].strip().split())"
   ]
  },
  {
   "cell_type": "code",
   "execution_count": 21,
   "metadata": {},
   "outputs": [],
   "source": [
    "pdf2json = r'D:\\workspace\\training\\webscrap-master\\data\\pdf2json'\n",
    "pdffiles = glob.glob(r'D:\\workspace\\training\\webscrap-master\\data\\pdf\\*')"
   ]
  },
  {
   "cell_type": "code",
   "execution_count": null,
   "metadata": {},
   "outputs": [
    {
     "name": "stdout",
     "output_type": "stream",
     "text": [
      "0th file parsed\n",
      "100th file parsed\n"
     ]
    }
   ],
   "source": [
    "for i, pdffile in enumerate(pdffiles):\n",
    "    jsonfile = os.path.basename(pdffile)[:-3] + 'json'\n",
    "    parsed = parser.from_file(pdffile)\n",
    "    content = {'metadata':parsed['metadata'],'content':parsed['content']}\n",
    "    json.dump(content, open(os.path.join(pdf2json,jsonfile), 'w'))\n",
    "    if i % 100 == 0:\n",
    "        print('{0}th file parsed'.format(i))"
   ]
  },
  {
   "cell_type": "code",
   "execution_count": 8,
   "metadata": {},
   "outputs": [],
   "source": [
    "import spacy"
   ]
  },
  {
   "cell_type": "markdown",
   "metadata": {},
   "source": [
    "### Steps to use Spacy\n",
    "<ul>\n",
    "    <li> Required: Python 3.7 or higher version, 64 bit</li>\n",
    "    <li> Download model: https://github.com/explosion/spacy-models/releases/download/en_core_web_sm-2.2.5/en_core_web_sm-2.2.5.tar.gz </li>\n",
    "    <li> Pip install the downloaded model</li>\n",
    "</ul>"
   ]
  },
  {
   "cell_type": "code",
   "execution_count": 13,
   "metadata": {},
   "outputs": [],
   "source": [
    "nlp = spacy.load(\"en_core_web_sm\")"
   ]
  },
  {
   "cell_type": "code",
   "execution_count": 14,
   "metadata": {},
   "outputs": [],
   "source": [
    "doc = nlp(content)"
   ]
  },
  {
   "cell_type": "code",
   "execution_count": 16,
   "metadata": {},
   "outputs": [],
   "source": [
    "sents = [sent for sent in doc.sents]"
   ]
  },
  {
   "cell_type": "code",
   "execution_count": 17,
   "metadata": {},
   "outputs": [
    {
     "data": {
      "text/plain": [
       "[H R Khan: Challenges and concerns of the central bank - opportunities and role for the commercial banks BIS central bankers’ speeches 1 H R Khan: Challenges and concerns of the central bank – opportunities and role for the commercial banks Address by Mr H R Khan, Deputy Governor of the Reserve Bank of India, at the Bankers’ Club, Thiruvananthapuram, 10 June 2013.,\n",
       " *,\n",
       " *,\n",
       " *,\n",
       " The speaker acknowledges the contributions of colleagues in Reserve Bank of India.,\n",
       " Accompanying slides can be found at the end of the speech.,\n",
       " Original presentation is on the Bank of India website.,\n",
       " 1.,\n",
       " It is a pleasure to be in the midst of so many bankers & colleagues in this serene temple city of Thiruvananthapuram in God’s own country of Kerala.,\n",
       " Bankers’ Club, as we all know, provides an informal platform for exchange of views and information on the banking system and about the economic environment in which banks operate.]"
      ]
     },
     "execution_count": 17,
     "metadata": {},
     "output_type": "execute_result"
    }
   ],
   "source": [
    "sents[:10]"
   ]
  },
  {
   "cell_type": "code",
   "execution_count": null,
   "metadata": {},
   "outputs": [],
   "source": []
  }
 ],
 "metadata": {
  "kernelspec": {
   "display_name": "Python 3",
   "language": "python",
   "name": "python3"
  },
  "language_info": {
   "codemirror_mode": {
    "name": "ipython",
    "version": 3
   },
   "file_extension": ".py",
   "mimetype": "text/x-python",
   "name": "python",
   "nbconvert_exporter": "python",
   "pygments_lexer": "ipython3",
   "version": "3.8.2"
  }
 },
 "nbformat": 4,
 "nbformat_minor": 4
}
